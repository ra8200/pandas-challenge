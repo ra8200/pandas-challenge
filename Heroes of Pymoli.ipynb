{
 "cells": [
  {
   "cell_type": "markdown",
   "metadata": {},
   "source": [
    "Heroes of Pymoli"
   ]
  },
  {
   "cell_type": "code",
   "execution_count": null,
   "metadata": {},
   "outputs": [],
   "source": [
    "# import dependencies\n",
    "import pandas as pd\n",
    "import csv\n",
    "import os"
   ]
  },
  {
   "cell_type": "code",
   "execution_count": null,
   "metadata": {},
   "outputs": [],
   "source": [
    "jsondata = os.path.join(\"Resources\",\"purchase_data.csv\")"
   ]
  },
  {
   "cell_type": "code",
   "execution_count": null,
   "metadata": {},
   "outputs": [],
   "source": [
    "#Read JSON data into a variable\n",
    "with open(jsondata) as json_data:\n",
    "    d = pd.read_json(json_data)"
   ]
  },
  {
   "cell_type": "code",
   "execution_count": 1,
   "metadata": {},
   "outputs": [
    {
     "ename": "NameError",
     "evalue": "name 'pd' is not defined",
     "output_type": "error",
     "traceback": [
      "\u001b[1;31m---------------------------------------------------------------------------\u001b[0m",
      "\u001b[1;31mNameError\u001b[0m                                 Traceback (most recent call last)",
      "\u001b[1;32m<ipython-input-1-c51546c46abc>\u001b[0m in \u001b[0;36m<module>\u001b[1;34m\u001b[0m\n\u001b[0;32m      1\u001b[0m \u001b[1;31m#turn data into dataframe\u001b[0m\u001b[1;33m\u001b[0m\u001b[1;33m\u001b[0m\u001b[1;33m\u001b[0m\u001b[0m\n\u001b[1;32m----> 2\u001b[1;33m \u001b[0mgame_df\u001b[0m \u001b[1;33m=\u001b[0m \u001b[0mpd\u001b[0m\u001b[1;33m.\u001b[0m\u001b[0mDataFrame\u001b[0m\u001b[1;33m(\u001b[0m\u001b[0md\u001b[0m\u001b[1;33m,\u001b[0m \u001b[0mcolumns\u001b[0m\u001b[1;33m=\u001b[0m\u001b[1;33m[\u001b[0m\u001b[1;34m'SN'\u001b[0m\u001b[1;33m,\u001b[0m \u001b[1;34m'Age'\u001b[0m\u001b[1;33m,\u001b[0m \u001b[1;34m'Gender'\u001b[0m\u001b[1;33m,\u001b[0m \u001b[1;34m'Item ID'\u001b[0m\u001b[1;33m,\u001b[0m \u001b[1;34m'Item Name'\u001b[0m\u001b[1;33m,\u001b[0m \u001b[1;34m'Price'\u001b[0m\u001b[1;33m]\u001b[0m\u001b[1;33m)\u001b[0m\u001b[1;33m\u001b[0m\u001b[1;33m\u001b[0m\u001b[0m\n\u001b[0m\u001b[0;32m      3\u001b[0m \u001b[0mgame_df\u001b[0m\u001b[1;33m.\u001b[0m\u001b[0mhead\u001b[0m\u001b[1;33m(\u001b[0m\u001b[1;33m)\u001b[0m\u001b[1;33m\u001b[0m\u001b[1;33m\u001b[0m\u001b[0m\n",
      "\u001b[1;31mNameError\u001b[0m: name 'pd' is not defined"
     ]
    }
   ],
   "source": [
    "#turn data into dataframe\n",
    "game_df = pd.DataFrame(d, columns=['SN', 'Age', 'Gender', 'Item ID', 'Item Name', 'Price'])\n",
    "game_df.head()"
   ]
  },
  {
   "cell_type": "code",
   "execution_count": null,
   "metadata": {},
   "outputs": [],
   "source": [
    "#Player Count\n",
    "total_players = len(game_df['SN'].value_counts())\n",
    "Total_Players = pd.DataFrame({\"Total Players\": total_players}, index=[0])\n",
    "Total_Players"
   ]
  },
  {
   "cell_type": "code",
   "execution_count": null,
   "metadata": {},
   "outputs": [],
   "source": [
    "#Number of Unique Items\n",
    "unique_items = len(game_df['Item ID'].value_counts())\n",
    "\n",
    "#Average Purchase Price\n",
    "average_price = game_df['Price'].mean()\n",
    "\n",
    "#Total Number of Purchases\n",
    "total_purchases = game_df['Item Name'].count()\n",
    "\n",
    "\n",
    "#Total Revenue\n",
    "total_revenue = game_df['Price'].sum()\n",
    "\n",
    "#Create DataFrame\n",
    "purchasing_analysis = pd.DataFrame({\"Number of Unique Items\": [unique_items],\n",
    "                                   \"Average Price\": [average_price],\n",
    "                                   \"Total Purchases\": [total_purchases],\n",
    "                                   \"Total Revenue\": [total_revenue],\n",
    "                                \n",
    "})\n",
    "\n",
    "#Reorder DataFrame\n",
    "purchasing_analysis = purchasing_analysis[[\"Number of Unique Items\", \"Average Price\",\"Total Purchases\", \"Total Revenue\"]]\n",
    "                                \n",
    "\n",
    "#improve formatting\n",
    "purchasing_analysis[\"Average Price\"] = purchasing_analysis[\"Average Price\"].map(\"${0:,.2f}\".format)\n",
    "purchasing_analysis[\"Total Revenue\"] = purchasing_analysis[\"Total Revenue\"].map(\"${0:,.2f}\".format)\n",
    "\n",
    "#Reorder Columns\n",
    "purchasing_analysis"
   ]
  },
  {
   "cell_type": "code",
   "execution_count": null,
   "metadata": {},
   "outputs": [],
   "source": [
    "Gender Demographics"
   ]
  },
  {
   "cell_type": "code",
   "execution_count": null,
   "metadata": {},
   "outputs": [],
   "source": [
    "#Group data by Gender and filter duplicates\n",
    "grouped_df = game_df.groupby([\"Gender\"])\n",
    "unique_df = grouped_df.nunique()\n",
    "\n",
    "#Total Gender\n",
    "total_gender = unique_df[\"SN\"].sum()\n",
    "\n",
    "#Percentage and Count of Players\n",
    "count = unique_df[\"SN\"].unique()\n",
    "percentage = unique_df[\"SN\"]/ total_gender\n",
    "\n",
    "#Create new dataframe\n",
    "final_gender = pd.DataFrame({\"Percentage of Players\": percentage,\n",
    "                            \"Count\":count})\n",
    "#Change percentage format and re order columns\n",
    "final_gender[\"Percentage of Players\"] = final_gender[\"Percentage of Players\"].map(\"{:,.2%}\".format) \n",
    "#Print final dataframe\n",
    "final_gender"
   ]
  },
  {
   "cell_type": "code",
   "execution_count": null,
   "metadata": {},
   "outputs": [],
   "source": [
    "#Purchase Count\n",
    "purchase_count = unique_df[\"Gender\"].value_counts()\n",
    "\n",
    "#Average Purchase Price\n",
    "average_price = grouped_df[\"Price\"].mean()\n",
    "\n",
    "#Total Purchase Value\n",
    "purchase_price = grouped_df[\"Price\"].sum()\n",
    "\n",
    "#Normalized Totals\n",
    "normalized = purchase_price / count\n",
    "\n",
    "#Create new dataframe\n",
    "gender_analysis = pd.DataFrame({\"Average Purchase Price\": average_price,\"Total Purchase Price\":purchase_price,\"Normalized Totals\": normalized})\n",
    "\n",
    "#Clean up formatting and reorder columns\n",
    "gender_analysis[\"Average Purchase Price\"] = gender_analysis[\"Average Purchase Price\"].map(\"${:,.2f}\".format) \n",
    "gender_analysis[\"Total Purchase Price\"] = gender_analysis[\"Total Purchase Price\"].map(\"${:,.2f}\".format) \n",
    "gender_analysis[\"Normalized Totals\"] = gender_analysis[\"Normalized Totals\"].map(\"${:,.2f}\".format) \n",
    "#Reorder Columns\n",
    "gender_analysis = gender_analysis[[\"Average Purchase Price\", \"Total Purchase Price\", \"Normalized Totals\"]]\n",
    "\n",
    "gender_analysis.head()"
   ]
  },
  {
   "cell_type": "code",
   "execution_count": null,
   "metadata": {},
   "outputs": [],
   "source": [
    "Age Demographics"
   ]
  },
  {
   "cell_type": "code",
   "execution_count": null,
   "metadata": {},
   "outputs": [],
   "source": [
    "#Age Demographics\n",
    "#Drop Duplicates\n",
    "cleaned_df = game_df.drop_duplicates(\"SN\")\n",
    "\n",
    "#The below each broken into bins of 4 years (i.e. <10, 10-14, 15-19, etc.)\n",
    "bins = [0,9,14,19,24,29,34,39,100]\n",
    "groups = [\"<10\", \"10-14\", \"15-19\", \"20-24\", \"25-29\", \"30-34\", \"35-39\", \"40+\"]\n",
    "\n",
    "#Create a  new column for age groups and then groupby Age Groups\n",
    "cleaned_df[\"Age Groups\"] = pd.cut(cleaned_df[\"Age\"], bins, labels=groups)\n",
    "age_df = cleaned_df.groupby([\"Age Groups\"])\n",
    "\n",
    "total_age = unique_df[\"Age\"].sum()\n",
    "\n",
    "#Purchase Count\n",
    "age_purchase = cleaned_df[\"Age Groups\"].value_counts()\n",
    "\n",
    "#Percentage of Users\n",
    "age_percentage = age_purchase / total_players\n",
    "\n",
    "age_demographics = pd.DataFrame({\"Total Count\": age_purchase,\n",
    "                             \"Percentage of Players\":age_percentage})\n",
    "\n",
    "age_demographics[\"Percentage of Players\"] = age_demographics[\"Percentage of Players\"].map(\"{:,.2%}\".format) \n",
    "\n",
    "age_demographics = age_demographics.reindex([\"<10\", \"10-14\", \"15-19\", \"20-24\", \"25-29\", \"30-34\", \"35-39\", \"40+\"])\n",
    "\n",
    "age_demographics"
   ]
  },
  {
   "cell_type": "code",
   "execution_count": null,
   "metadata": {},
   "outputs": [],
   "source": [
    "Age Analysis"
   ]
  },
  {
   "cell_type": "code",
   "execution_count": null,
   "metadata": {},
   "outputs": [],
   "source": [
    "#Average Purchase Price\n",
    "age_average_price = age_df[\"Price\"].mean()\n",
    "\n",
    "#Total Purchase Value\n",
    "age_price = age_df[\"Price\"].sum()\n",
    "\n",
    "#Normalized Totals\n",
    "normalized_age = age_price / age_purchase\n",
    "\n",
    "#Create new dataframe\n",
    "age_analysis = pd.DataFrame({\"Purchase Count\": age_purchase,\n",
    "                             \"Average Purchase Price\":age_average_price,\n",
    "                            \"Total Purchase Value\":age_price,\n",
    "                            \"Normalized Totals\": normalized_age})\n",
    "\n",
    "#Clean up formatting\n",
    "age_analysis[\"Average Purchase Price\"] = age_analysis[\"Average Purchase Price\"].map(\"${:,.2f}\".format) \n",
    "age_analysis[\"Total Purchase Value\"] = age_analysis[\"Total Purchase Value\"].map(\"${:,.2f}\".format) \n",
    "age_analysis[\"Normalized Totals\"] = age_analysis[\"Normalized Totals\"].map(\"${:,.2f}\".format) \n",
    "\n",
    "#Reorder Columns\n",
    "age_analysis = age_analysis[[\"Purchase Count\", \"Average Purchase Price\", \"Total Purchase Value\", \"Normalized Totals\"]]\n",
    "\n",
    "#Move bottom row to the top\n",
    "age_analysis = pd.concat([age_analysis.loc[[\"<10\"],:], age_analysis.drop(\"<10\", axis=0)], axis=0)\n",
    "\n",
    "age_analysis"
   ]
  },
  {
   "cell_type": "code",
   "execution_count": null,
   "metadata": {},
   "outputs": [],
   "source": [
    "Top Users"
   ]
  },
  {
   "cell_type": "code",
   "execution_count": null,
   "metadata": {},
   "outputs": [],
   "source": [
    "grouped_sn = game_df.groupby([\"SN\"])\n",
    "\n",
    "#Find total spent per user\n",
    "total_price_sn = grouped_sn.sum()[\"Price\"]\n",
    "\n",
    "#Find avg spent per user\n",
    "avg_price_sn = grouped_sn.mean()[\"Price\"]\n",
    "\n",
    "#Find purchase count per user\n",
    "count_sn = grouped_sn.count()[\"Price\"]\n",
    "\n",
    "#Create new dataframe\n",
    "top_user_df = pd.DataFrame({\"Purchase Count\":count_sn,\n",
    "                            \"Average Purchase Price\":avg_price_sn,\n",
    "                            \"Total Purchase Price\": total_price_sn\n",
    "                            })\n",
    "\n",
    "#Sort by total purchase price\n",
    "sorted_df = top_user_df.sort_values(\"Total Purchase Price\",ascending=False)\n",
    "\n",
    "#Format numbers\n",
    "sorted_df[\"Average Purchase Price\"] = sorted_df[\"Average Purchase Price\"].map(\"${:,.2f}\".format) \n",
    "sorted_df[\"Total Purchase Price\"] = sorted_df[\"Total Purchase Price\"].map(\"${:,.2f}\".format) \n",
    "\n",
    "#Reorder Columns\n",
    "sorted_df = sorted_df[[\"Purchase Count\", \"Average Purchase Price\", \"Total Purchase Price\"]]\n",
    "\n",
    "#Display top 5\n",
    "sorted_df.head(5)"
   ]
  },
  {
   "cell_type": "code",
   "execution_count": null,
   "metadata": {},
   "outputs": [],
   "source": [
    "Most Popular Items"
   ]
  },
  {
   "cell_type": "code",
   "execution_count": null,
   "metadata": {},
   "outputs": [],
   "source": [
    "grouped_id = game_df.set_index([\"Item ID\", \"Item Name\"])\n",
    "\n",
    "grouped_id = grouped_id.groupby(level=[\"Item ID\", \"Item Name\"])\n",
    "\n",
    "#Find total spent per user\n",
    "total_price_id = grouped_id.sum()[\"Price\"]\n",
    "\n",
    "#Find avg spent per user\n",
    "avg_price_id = grouped_id.mean()[\"Price\"]\n",
    "\n",
    "#Find purchase count per user\n",
    "count_id = grouped_id.count()[\"Price\"]\n",
    "\n",
    "\n",
    "#Create new dataframe\n",
    "items_df = pd.DataFrame({ \n",
    "                         \"Count\":count_id,\n",
    "                            \"Average Purchase Price\":avg_price_id,\n",
    "                            \"Total Purchase Price\": total_price_id,\n",
    "                            })\n",
    "\n",
    "\n",
    "#Sort by total purchase price\n",
    "sorted_items = items_df.sort_values(\"Count\",ascending=False)\n",
    "\n",
    "sorted_items[\"Average Purchase Price\"] = sorted_items[\"Average Purchase Price\"].map(\"${:,.2f}\".format) \n",
    "sorted_items[\"Total Purchase Price\"] = sorted_items[\"Total Purchase Price\"].map(\"${:,.2f}\".format) \n",
    "\n",
    "#Reorder Columns\n",
    "sorted_items = sorted_items[[\"Count\", \"Average Purchase Price\", \"Total Purchase Price\"]]\n",
    "\n",
    "\n",
    "#Display top 5\n",
    "sorted_items.head(5)"
   ]
  },
  {
   "cell_type": "code",
   "execution_count": null,
   "metadata": {},
   "outputs": [],
   "source": [
    "Most Profitable Items"
   ]
  },
  {
   "cell_type": "code",
   "execution_count": null,
   "metadata": {},
   "outputs": [],
   "source": [
    "grouped_id = game_df.set_index([\"Item ID\", \"Item Name\"])\n",
    "\n",
    "grouped_id = grouped_id.groupby(level=[\"Item ID\", \"Item Name\"])\n",
    "\n",
    "#Find total spent per user\n",
    "total_price_id = grouped_id.sum()[\"Price\"]\n",
    "\n",
    "#Find avg spent per user\n",
    "avg_price_id = grouped_id.mean()[\"Price\"]\n",
    "\n",
    "#Find purchase count per user\n",
    "count_id = grouped_id.count()[\"Price\"]\n",
    "\n",
    "#Create new dataframe\n",
    "items_df = pd.DataFrame({ \"Count\":count_id,\n",
    "                        \"Average Purchase Price\":avg_price_id,\n",
    "                        \"Total Purchase Price\": total_price_id,\n",
    "                            })\n",
    "\n",
    "\n",
    "#Sort by total purchase price\n",
    "sorted_items = items_df.sort_values(\"Total Purchase Price\",ascending=False)\n",
    "\n",
    "sorted_items[\"Average Purchase Price\"] = sorted_items[\"Average Purchase Price\"].map(\"${:,.2f}\".format) \n",
    "sorted_items[\"Total Purchase Price\"] = sorted_items[\"Total Purchase Price\"].map(\"${:,.2f}\".format) \n",
    "\n",
    "#Reorder Columns\n",
    "sorted_items = sorted_items[[\"Count\", \"Average Purchase Price\", \"Total Purchase Price\"]]\n",
    "\n",
    "#Display top 5\n",
    "sorted_items.head(5)"
   ]
  }
 ],
 "metadata": {
  "kernelspec": {
   "display_name": "Python 3",
   "language": "python",
   "name": "python3"
  },
  "language_info": {
   "codemirror_mode": {
    "name": "ipython",
    "version": 3
   },
   "file_extension": ".py",
   "mimetype": "text/x-python",
   "name": "python",
   "nbconvert_exporter": "python",
   "pygments_lexer": "ipython3",
   "version": "3.8.3"
  }
 },
 "nbformat": 4,
 "nbformat_minor": 4
}
